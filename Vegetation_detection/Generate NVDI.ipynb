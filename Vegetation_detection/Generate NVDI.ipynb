{
 "cells": [
  {
   "cell_type": "code",
   "execution_count": 1,
   "id": "8100ff85",
   "metadata": {},
   "outputs": [],
   "source": [
    "import ee"
   ]
  },
  {
   "cell_type": "code",
   "execution_count": 2,
   "id": "859a26b4",
   "metadata": {},
   "outputs": [],
   "source": [
    "import geemap"
   ]
  },
  {
   "cell_type": "code",
   "execution_count": 11,
   "id": "5a7a6da8",
   "metadata": {},
   "outputs": [
    {
     "data": {
      "application/vnd.jupyter.widget-view+json": {
       "model_id": "66592858ae5e46ddb3385a62a9b23302",
       "version_major": 2,
       "version_minor": 0
      },
      "text/plain": [
       "Map(center=[20, 0], controls=(WidgetControl(options=['position', 'transparent_bg'], widget=HBox(children=(Togg…"
      ]
     },
     "metadata": {},
     "output_type": "display_data"
    }
   ],
   "source": [
    "Map=geemap.Map()\n",
    "Map"
   ]
  },
  {
   "cell_type": "code",
   "execution_count": 4,
   "id": "2c7f5f7b",
   "metadata": {},
   "outputs": [],
   "source": [
    "#set centre\n",
    "Map.setCenter(77.6,28.5,9);"
   ]
  },
  {
   "cell_type": "code",
   "execution_count": 5,
   "id": "e4ee54ad",
   "metadata": {},
   "outputs": [],
   "source": [
    "#location point\n",
    "point=ee.Geometry.Point(77.6,28.5);"
   ]
  },
  {
   "cell_type": "code",
   "execution_count": 6,
   "id": "c0f62072",
   "metadata": {},
   "outputs": [],
   "source": [
    "data=ee.ImageCollection(\"COPERNICUS/S2\").filterBounds(point);"
   ]
  },
  {
   "cell_type": "code",
   "execution_count": 7,
   "id": "7cf33e47",
   "metadata": {},
   "outputs": [],
   "source": [
    "image=ee.Image(data.filterDate(\"2019-01-01\",\"2019-12-31\").sort(\"CLOUD_COVERAGE_ASSESSMENT\").first());"
   ]
  },
  {
   "cell_type": "code",
   "execution_count": 8,
   "id": "e1fb9f52",
   "metadata": {},
   "outputs": [],
   "source": [
    "ndvi=image.expression(\n",
    "\"(NIR - RED) / (NIR + RED)\",\n",
    "{\"NIR\":image.select(\"B8\"),\n",
    "\"RED\":image.select(\"B4\")});"
   ]
  },
  {
   "cell_type": "code",
   "execution_count": 9,
   "id": "a4d99552",
   "metadata": {},
   "outputs": [],
   "source": [
    "display={\n",
    "    \"min\":0,\n",
    "    \"max\":1,\n",
    "    \"palette\":[ 'red','orange', 'yellow','yellowgreen', 'green','black']\n",
    "}"
   ]
  },
  {
   "cell_type": "code",
   "execution_count": 10,
   "id": "40479bb9",
   "metadata": {},
   "outputs": [
    {
     "data": {
      "application/vnd.jupyter.widget-view+json": {
       "model_id": "e0a7514d71954f11be63a5d4216300ba",
       "version_major": 2,
       "version_minor": 0
      },
      "text/plain": [
       "Map(center=[28.5, 77.6], controls=(WidgetControl(options=['position', 'transparent_bg'], widget=HBox(children=…"
      ]
     },
     "metadata": {},
     "output_type": "display_data"
    }
   ],
   "source": [
    "Map.addLayer(ndvi,display);\n",
    "Map"
   ]
  },
  {
   "cell_type": "code",
   "execution_count": null,
   "id": "c9d97fb5",
   "metadata": {},
   "outputs": [],
   "source": []
  }
 ],
 "metadata": {
  "kernelspec": {
   "display_name": "Python 3 (ipykernel)",
   "language": "python",
   "name": "python3"
  },
  "language_info": {
   "codemirror_mode": {
    "name": "ipython",
    "version": 3
   },
   "file_extension": ".py",
   "mimetype": "text/x-python",
   "name": "python",
   "nbconvert_exporter": "python",
   "pygments_lexer": "ipython3",
   "version": "3.9.7"
  }
 },
 "nbformat": 4,
 "nbformat_minor": 5
}
